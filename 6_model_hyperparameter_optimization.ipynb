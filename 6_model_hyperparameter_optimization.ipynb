{
 "cells": [
  {
   "cell_type": "markdown",
   "id": "afee2829",
   "metadata": {},
   "source": [
    "# Model Hyperparameters Optimization - Airbnb Reviews"
   ]
  },
  {
   "cell_type": "code",
   "execution_count": null,
   "id": "127dcc14",
   "metadata": {},
   "outputs": [],
   "source": [
    "import numpy as np\n",
    "import pandas as pd\n",
    "from sklearn.cluster import DBSCAN\n",
    "from pyod.models.suod import SUOD\n",
    "from pyod.models.lof import LOF\n",
    "from pyod.models.iforest import IForest\n",
    "from pyod.models.ocsvm import OCSVM\n",
    "from pyod.utils.utility import standardizer\n",
    "from sklearn.model_selection import GridSearchCV\n",
    "from sklearn.metrics import confusion_matrix, precision_recall_fscore_support, roc_curve, roc_auc_score\n",
    "from sklearn.decomposition import PCA\n",
    "\n",
    "pd.set_option(\"display.max_colwidth\", None)"
   ]
  },
  {
   "cell_type": "code",
   "execution_count": null,
   "id": "d02d481a",
   "metadata": {},
   "outputs": [],
   "source": [
    "samples = 50782 # 20% of data\n",
    "threads = -1\n",
    "contamination = 0.4"
   ]
  },
  {
   "cell_type": "code",
   "execution_count": null,
   "id": "68e50d1d",
   "metadata": {},
   "outputs": [],
   "source": [
    "filename = \"reviews_named_entities.csv\"\n",
    "df_pred = pd.read_csv(filename, sep=\";\", nrows=samples)"
   ]
  },
  {
   "cell_type": "code",
   "execution_count": null,
   "id": "0026103b",
   "metadata": {},
   "outputs": [],
   "source": [
    "filename = \"reviews_sample_labelled.csv\"\n",
    "df_label = pd.read_csv(filename, sep=\";\", nrows=samples)"
   ]
  },
  {
   "cell_type": "code",
   "execution_count": null,
   "id": "3d4bd77e",
   "metadata": {},
   "outputs": [],
   "source": [
    "new_columns = ['CARDINAL', 'DATE', 'EMAIL', 'EVENT', 'FAC', 'GPE', 'LANGUAGE', 'LAW', 'LOC', 'MONEY', 'NORP', 'ORDINAL',\n",
    "               'ORG', 'PERCENT', 'PERSON', 'PHONE', 'PRODUCT', 'QUANTITY', 'TIME', 'WORK_OF_ART']\n",
    "df_pred[new_columns].head()"
   ]
  },
  {
   "cell_type": "code",
   "execution_count": null,
   "id": "317a931a",
   "metadata": {},
   "outputs": [],
   "source": [
    "pca = PCA(0.95)\n",
    "pc = pca.fit_transform(df_pred[new_columns])\n",
    "pc_df = pd.DataFrame(data=pc)\n",
    "pc_df = pd.concat([pc_df, df_label['label']], axis=1)\n",
    "pc_df.head()"
   ]
  },
  {
   "cell_type": "code",
   "execution_count": null,
   "id": "51905ac9",
   "metadata": {},
   "outputs": [],
   "source": [
    "feature_matrix = standardizer(pc_df.drop('label', axis=1))"
   ]
  },
  {
   "cell_type": "markdown",
   "id": "b18a9851",
   "metadata": {},
   "source": [
    "## Local Outlier Factor (LOF)"
   ]
  },
  {
   "cell_type": "code",
   "execution_count": null,
   "id": "117859ba",
   "metadata": {},
   "outputs": [],
   "source": [
    "parameters = {\n",
    "    'n_neighbors': np.arange(900, 2000, 50),\n",
    "    'contamination': [contamination]\n",
    "}\n",
    "clf = GridSearchCV(LOF(), parameters, scoring='roc_auc', n_jobs=threads, verbose=4)\n",
    "clf.fit(feature_matrix, df_label[\"label\"])\n",
    "print(clf.best_params_)\n",
    "\n",
    "lof = LOF(**clf.best_params_, n_jobs=threads)\n",
    "lof_pred = lof.fit_predict(feature_matrix)\n",
    "lof_score = lof.decision_scores_\n",
    "lof_auc = roc_auc_score(df_label[\"label\"], lof_score)\n",
    "print(f\"ROC AUC: {lof_auc:.3f}, Threshold: {lof.threshold_:.5f}\")\n",
    "\n",
    "# Fitting 5 folds for each of 22 candidates, totalling 110 fits\n",
    "# {'contamination': 0.4, 'n_neighbors': 1400}\n",
    "# ROC AUC: 0.809, Threshold: 1.03282"
   ]
  },
  {
   "cell_type": "markdown",
   "id": "a4ef0679",
   "metadata": {},
   "source": [
    "## DBSCAN"
   ]
  },
  {
   "cell_type": "code",
   "execution_count": null,
   "id": "8e63d671",
   "metadata": {},
   "outputs": [],
   "source": [
    "parameters = {\n",
    "    'eps': np.arange(0.1, 1.0, 0.1),\n",
    "    'min_samples': np.arange(3, 11, 1)\n",
    "}\n",
    "clf = GridSearchCV(DBSCAN(), parameters, scoring='roc_auc', n_jobs=threads, verbose=4)\n",
    "clf.fit(feature_matrix, df_label[\"label\"])\n",
    "print(clf.best_params_)\n",
    "\n",
    "dbscan = DBSCAN(**clf.best_params_, n_jobs=threads)\n",
    "dbscan_pred = dbscan.fit_predict(feature_matrix)\n",
    "dbscan_auc = roc_auc_score(df_label[\"label\"], dbscan_pred)\n",
    "print(f\"ROC AUC: {dbscan_auc:.3f}\")\n",
    "\n",
    "# Fitting 5 folds for each of 72 candidates, totalling 360 fits\n",
    "# {'eps': 0.1, 'min_samples': 3}\n",
    "# ROC AUC: 0.684"
   ]
  },
  {
   "cell_type": "markdown",
   "id": "a9985ba6",
   "metadata": {},
   "source": [
    "## iForest"
   ]
  },
  {
   "cell_type": "code",
   "execution_count": null,
   "id": "40b42e11",
   "metadata": {},
   "outputs": [],
   "source": [
    "parameters = {\n",
    "    'n_estimators': np.arange(50, 201, 25),\n",
    "    'max_samples': [0.25, 0.5, 0.75, 1.0],\n",
    "    'max_features': [0.05, 0.15, 0.25, 0.5, 0.75, 1.0],\n",
    "    'contamination': [contamination]\n",
    "}\n",
    "clf = GridSearchCV(IForest(), parameters, scoring='roc_auc', n_jobs=threads, verbose=4)\n",
    "clf.fit(feature_matrix, df_label[\"label\"])\n",
    "print(clf.best_params_) \n",
    "\n",
    "iforest = IForest(**clf.best_params_, n_jobs=threads)\n",
    "iforest_pred = iforest.fit_predict(feature_matrix)\n",
    "iforest_score = iforest.decision_scores_\n",
    "iforest_auc = roc_auc_score(df_label[\"label\"], iforest_score)\n",
    "print(f\"ROC AUC: {iforest_auc:.3f}, Threshold: {iforest.threshold_:.5f}\")\n",
    "\n",
    "# Fitting 5 folds for each of 168 candidates, totalling 840 fits\n",
    "# {'contamination': 0.4, 'max_features': 0.05, 'max_samples': 0.75, 'n_estimators': 100}\n",
    "# ROC AUC: 0.880, Threshold: -0.00000"
   ]
  },
  {
   "cell_type": "markdown",
   "id": "fe0ae94b",
   "metadata": {},
   "source": [
    "## OCSVM"
   ]
  },
  {
   "cell_type": "code",
   "execution_count": null,
   "id": "465ef153",
   "metadata": {},
   "outputs": [],
   "source": [
    "parameters = {\n",
    "    'kernel': ['linear', 'rbf'],\n",
    "    'cache_size': [2048],\n",
    "    'contamination': [0.4]\n",
    "}\n",
    "clf = GridSearchCV(OCSVM(), parameters, scoring='roc_auc', n_jobs=threads, verbose=4)\n",
    "clf.fit(feature_matrix, df_label[\"label\"])\n",
    "print(clf.best_params_)\n",
    "\n",
    "ocsvm = OCSVM(**clf.best_params_, n_jobs=threads)\n",
    "ocsvm_pred = ocsvm.fit_predict(feature_matrix)\n",
    "ocsvm_score = ocsvm.decision_scores_\n",
    "ocsvm_auc = roc_auc_score(df_label[\"label\"], ocsvm_score)\n",
    "print(f\"ROC AUC: {ocsvm_auc:.3f}, Threshold: {ocsvm.threshold_:.5f}\")"
   ]
  },
  {
   "cell_type": "code",
   "execution_count": null,
   "id": "77d24c83",
   "metadata": {},
   "outputs": [],
   "source": []
  },
  {
   "cell_type": "code",
   "execution_count": null,
   "id": "b39ccc1e",
   "metadata": {},
   "outputs": [],
   "source": []
  },
  {
   "cell_type": "code",
   "execution_count": null,
   "id": "77dbdd9e",
   "metadata": {},
   "outputs": [],
   "source": []
  }
 ],
 "metadata": {
  "kernelspec": {
   "display_name": "Python 3 (ipykernel)",
   "language": "python",
   "name": "python3"
  },
  "language_info": {
   "codemirror_mode": {
    "name": "ipython",
    "version": 3
   },
   "file_extension": ".py",
   "mimetype": "text/x-python",
   "name": "python",
   "nbconvert_exporter": "python",
   "pygments_lexer": "ipython3",
   "version": "3.9.12"
  }
 },
 "nbformat": 4,
 "nbformat_minor": 5
}
