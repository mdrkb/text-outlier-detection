{
 "cells": [
  {
   "cell_type": "markdown",
   "id": "7a23c814",
   "metadata": {},
   "source": [
    "# Feature Generation - Airbnb Reviews"
   ]
  },
  {
   "cell_type": "code",
   "execution_count": null,
   "id": "2e861aab",
   "metadata": {},
   "outputs": [],
   "source": [
    "import re\n",
    "from collections import Counter, defaultdict\n",
    "import numpy as np\n",
    "import pandas as pd\n",
    "import matplotlib.pyplot as plt\n",
    "import spacy\n",
    "from spacy.language import Language\n",
    "from spacy_langdetect import LanguageDetector\n",
    "\n",
    "%matplotlib inline\n",
    "plt.rcParams.update({\"font.size\": 13, \"figure.figsize\": [15,6]})\n",
    "pd.set_option(\"display.max_colwidth\", None)"
   ]
  },
  {
   "cell_type": "markdown",
   "id": "4c66fea5",
   "metadata": {},
   "source": [
    "## 1. Read Dataset"
   ]
  },
  {
   "cell_type": "code",
   "execution_count": null,
   "id": "43eb6214",
   "metadata": {},
   "outputs": [],
   "source": [
    "filename = \"reviews.csv\"\n",
    "df = pd.read_csv(filename)"
   ]
  },
  {
   "cell_type": "code",
   "execution_count": null,
   "id": "3b575c1a",
   "metadata": {},
   "outputs": [],
   "source": [
    "df.head()"
   ]
  },
  {
   "cell_type": "markdown",
   "id": "1d819f42",
   "metadata": {},
   "source": [
    "## 2. Exploratory Data Analysis"
   ]
  },
  {
   "cell_type": "code",
   "execution_count": null,
   "id": "77e8051a",
   "metadata": {},
   "outputs": [],
   "source": [
    "df.info()"
   ]
  },
  {
   "cell_type": "markdown",
   "id": "2e860005",
   "metadata": {},
   "source": [
    "From dataset information, we can see that:\n",
    "\n",
    "- The shape of the dataset is (410291, 6).\n",
    "- Attribute `comments` have missing values."
   ]
  },
  {
   "cell_type": "code",
   "execution_count": null,
   "id": "b5b7c2f8",
   "metadata": {},
   "outputs": [],
   "source": [
    "# Check number of missing comments\n",
    "print(df[\"comments\"].isna().value_counts())\n",
    "df[df[\"comments\"].isna()].head() "
   ]
  },
  {
   "cell_type": "code",
   "execution_count": null,
   "id": "b311fbf7",
   "metadata": {},
   "outputs": [],
   "source": [
    "# Check for noisy comments\n",
    "garbage_comments_count = df[df[\"comments\"].str.len() == 1][\"comments\"].value_counts()\n",
    "sum(garbage_comments_count)"
   ]
  },
  {
   "cell_type": "code",
   "execution_count": null,
   "id": "e4a13b55",
   "metadata": {},
   "outputs": [],
   "source": [
    "# Check review distribution over time\n",
    "df[\"date\"].sort_values()\n",
    "pd.to_datetime(df[\"date\"]).value_counts().sort_index().plot(title=\"Review count over years\")\n",
    "plt.draw()"
   ]
  },
  {
   "cell_type": "markdown",
   "id": "7cd8d81c",
   "metadata": {},
   "source": [
    "Airbnb was founded in August 2008. So, during the first few years, the number of reviews was very low. Then gradually it started increasing until the Covid pandemic began. This figure is created before removing the missing/garbage reviews. The figure might change a bit after removing those reviews. But the outcome is expected to remain the same."
   ]
  },
  {
   "cell_type": "markdown",
   "id": "1ba67a3e",
   "metadata": {},
   "source": [
    "## 3. Data Preprocessing"
   ]
  },
  {
   "cell_type": "code",
   "execution_count": null,
   "id": "beb01b75",
   "metadata": {},
   "outputs": [],
   "source": [
    "# Remove missing comments\n",
    "df.dropna(subset=[\"comments\"], axis=0, inplace=True)\n",
    "df.shape"
   ]
  },
  {
   "cell_type": "code",
   "execution_count": null,
   "id": "5d000bb5",
   "metadata": {},
   "outputs": [],
   "source": [
    "# Remove noisy comments\n",
    "garbage_comments_idx = df[df[\"comments\"].str.len() == 1].index\n",
    "df.drop(index=garbage_comments_idx, axis=0, inplace=True)"
   ]
  },
  {
   "cell_type": "code",
   "execution_count": null,
   "id": "6a50b468",
   "metadata": {},
   "outputs": [],
   "source": [
    "# Final dataframe shape\n",
    "df.shape"
   ]
  },
  {
   "cell_type": "code",
   "execution_count": null,
   "id": "c87c9145",
   "metadata": {},
   "outputs": [],
   "source": [
    "filename_pre = \"reviews_preprocessed.csv\"\n",
    "df.to_csv(filename_pre, sep=\";\", index=False)"
   ]
  },
  {
   "cell_type": "markdown",
   "id": "f9a98b64",
   "metadata": {},
   "source": [
    "## 4. Feature Generation"
   ]
  },
  {
   "cell_type": "code",
   "execution_count": null,
   "id": "88252a48",
   "metadata": {},
   "outputs": [],
   "source": [
    "# Load the preprocessed dataset\n",
    "pre_df = pd.read_csv(filename_pre, sep=\";\")"
   ]
  },
  {
   "cell_type": "markdown",
   "id": "0ae80937",
   "metadata": {},
   "source": [
    "### 4.1 Named Entity Recognition"
   ]
  },
  {
   "cell_type": "code",
   "execution_count": null,
   "id": "52243239",
   "metadata": {},
   "outputs": [],
   "source": [
    "# https://spacy.io/models/en#en_core_web_lg\n",
    "nlp = spacy.load(\"en_core_web_lg\")\n",
    "\n",
    "def get_lang_detector(nlp, name):\n",
    "    return LanguageDetector()\n",
    "Language.factory(\"language_detector\", func=get_lang_detector)\n",
    "nlp.add_pipe('language_detector', last=True)"
   ]
  },
  {
   "cell_type": "code",
   "execution_count": null,
   "id": "88437aec",
   "metadata": {},
   "outputs": [],
   "source": [
    "new_columns = ['CARDINAL', 'DATE', 'EMAIL', 'EVENT', 'FAC', 'GPE', 'LANGUAGE', 'LAW', 'LOC', 'MONEY', 'NORP', 'ORDINAL',\n",
    "               'ORG', 'PERCENT', 'PERSON', 'PHONE', 'PRODUCT', 'QUANTITY', 'TIME', 'WORK_OF_ART']\n",
    "empty_dict = {column: 0 for column in new_columns}"
   ]
  },
  {
   "cell_type": "code",
   "execution_count": null,
   "id": "07ecd576",
   "metadata": {},
   "outputs": [],
   "source": [
    "def get_named_entities(text):\n",
    "    ents_list = []\n",
    "    ents_dict = defaultdict(set)\n",
    "    \n",
    "    # Find emails\n",
    "    emails = re.findall(r\"[\\w.+-]+@[\\w-]+\\.[\\w.-]+\", text)\n",
    "    if emails:\n",
    "        ents_dict[\"EMAIL\"] = set(emails)\n",
    "    for email in emails:\n",
    "        ents_list.append(\"EMAIL\")\n",
    "        text = text.replace(email, \"\")\n",
    "    \n",
    "    # Find phone numbers\n",
    "    phones = re.findall(r\"((?:\\+\\d{2}[-\\.\\s]??|\\d{4}[-\\.\\s]??)?(?:\\d{3}[-\\.\\s]??\\d{3}[-\\.\\s]??\\d{4}|\\(\\d{3}\\)\\s*\\d{3}[-\\.\\s]??\\d{4}|\\d{3}[-\\.\\s]??\\d{4}))\", text)\n",
    "    if phones:\n",
    "        ents_dict[\"PHONE\"] = set(phones)\n",
    "    for phone in phones:\n",
    "        ents_list.append(\"PHONE\")\n",
    "        text = text.replace(phone, \"\")\n",
    "    \n",
    "    # Find named entites\n",
    "    doc = nlp(text)\n",
    "    for ent in doc.ents:\n",
    "        ents_list.append(ent.label_)\n",
    "        ents_dict[ent.label_].add(ent.text)\n",
    "    \n",
    "    ents_list.sort()\n",
    "    ents_count_dict = dict(Counter(ents_list))\n",
    "    ents_count_dict = {**empty_dict, **ents_count_dict}\n",
    "    \n",
    "    result = [doc._.language[\"language\"], dict(ents_dict)] + list(ents_count_dict.values())\n",
    "    return result"
   ]
  },
  {
   "cell_type": "code",
   "execution_count": null,
   "id": "cc5f6753",
   "metadata": {},
   "outputs": [],
   "source": [
    "%%timeit -r 1\n",
    "columns = [\"lang\", \"ents\"] + new_columns\n",
    "pre_df[columns] = pre_df.apply(lambda record: get_named_entities(record[\"comments\"]), axis=1, result_type=\"expand\")"
   ]
  },
  {
   "cell_type": "code",
   "execution_count": null,
   "id": "716e037e",
   "metadata": {},
   "outputs": [],
   "source": [
    "pre_df[[\"comments\", \"ents\"]].head()"
   ]
  },
  {
   "cell_type": "code",
   "execution_count": null,
   "id": "25fe351e",
   "metadata": {},
   "outputs": [],
   "source": [
    "# Filter English comments only\n",
    "pre_df = pre_df[pre_df[\"lang\"]==\"en\"].copy()"
   ]
  },
  {
   "cell_type": "code",
   "execution_count": null,
   "id": "84e0fd97",
   "metadata": {},
   "outputs": [],
   "source": [
    "filename_ne = \"reviews_named_entities.csv\"\n",
    "pre_df.to_csv(filename_ne, sep=\";\", index=False)"
   ]
  },
  {
   "cell_type": "code",
   "execution_count": null,
   "id": "42e32132",
   "metadata": {},
   "outputs": [],
   "source": []
  },
  {
   "cell_type": "code",
   "execution_count": null,
   "id": "a94834c0",
   "metadata": {},
   "outputs": [],
   "source": []
  },
  {
   "cell_type": "code",
   "execution_count": null,
   "id": "003348d7",
   "metadata": {
    "scrolled": false
   },
   "outputs": [],
   "source": []
  }
 ],
 "metadata": {
  "kernelspec": {
   "display_name": "Python 3 (ipykernel)",
   "language": "python",
   "name": "python3"
  },
  "language_info": {
   "codemirror_mode": {
    "name": "ipython",
    "version": 3
   },
   "file_extension": ".py",
   "mimetype": "text/x-python",
   "name": "python",
   "nbconvert_exporter": "python",
   "pygments_lexer": "ipython3",
   "version": "3.9.12"
  }
 },
 "nbformat": 4,
 "nbformat_minor": 5
}
