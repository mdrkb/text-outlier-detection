{
 "cells": [
  {
   "cell_type": "markdown",
   "id": "7a23c814",
   "metadata": {},
   "source": [
    "# Predict Outliers - Airbnb Reviews"
   ]
  },
  {
   "cell_type": "code",
   "execution_count": null,
   "id": "2e861aab",
   "metadata": {},
   "outputs": [],
   "source": [
    "import numpy as np\n",
    "import pandas as pd\n",
    "from sklearn.cluster import DBSCAN\n",
    "from pyod.models.suod import SUOD\n",
    "from pyod.models.lof import LOF\n",
    "from pyod.models.iforest import IForest\n",
    "from pyod.models.ocsvm import OCSVM\n",
    "from pyod.utils.utility import standardizer\n",
    "from sklearn.decomposition import PCA\n",
    "import matplotlib.pyplot as plt\n",
    "\n",
    "pd.set_option(\"display.max_colwidth\", None)"
   ]
  },
  {
   "cell_type": "code",
   "execution_count": null,
   "id": "20fad009",
   "metadata": {},
   "outputs": [],
   "source": [
    "samples = 50782 # 20% of data\n",
    "threads = 1\n",
    "contamination = 0.4"
   ]
  },
  {
   "cell_type": "code",
   "execution_count": null,
   "id": "0db66b9d",
   "metadata": {},
   "outputs": [],
   "source": [
    "# Load the dataset containing named entities\n",
    "filename = \"reviews_named_entities.csv\"\n",
    "pred_df = pd.read_csv(filename, sep=\";\", nrows=samples)"
   ]
  },
  {
   "cell_type": "code",
   "execution_count": null,
   "id": "370b64f6",
   "metadata": {},
   "outputs": [],
   "source": [
    "filename = \"reviews_sample_labelled.csv\"\n",
    "label_df = pd.read_csv(filename, sep=\";\")"
   ]
  },
  {
   "cell_type": "code",
   "execution_count": null,
   "id": "204f9399",
   "metadata": {},
   "outputs": [],
   "source": [
    "new_columns = ['CARDINAL', 'DATE', 'EMAIL', 'EVENT', 'FAC', 'GPE', 'LANGUAGE', 'LAW', 'LOC', 'MONEY', 'NORP', 'ORDINAL',\n",
    "               'ORG', 'PERCENT', 'PERSON', 'PHONE', 'PRODUCT', 'QUANTITY', 'TIME', 'WORK_OF_ART']\n",
    "pred_df[new_columns].head()"
   ]
  },
  {
   "cell_type": "markdown",
   "id": "020f2b5f",
   "metadata": {},
   "source": [
    "## Dimension Reduction"
   ]
  },
  {
   "cell_type": "code",
   "execution_count": null,
   "id": "b7b7bcb0",
   "metadata": {},
   "outputs": [],
   "source": [
    "pca = PCA(0.95)\n",
    "pc = pca.fit_transform(pred_df[new_columns])\n",
    "pc_df = pd.DataFrame(data=pc)\n",
    "pc_df = pd.concat([pc_df, label_df[['label']]], axis=1)\n",
    "pc_df.head()"
   ]
  },
  {
   "cell_type": "code",
   "execution_count": null,
   "id": "a27fe904",
   "metadata": {},
   "outputs": [],
   "source": [
    "# fig = plt.figure(figsize=(8,8))\n",
    "# ax = fig.add_subplot(1,1,1) \n",
    "# ax.set_xlabel('PC1', fontsize = 15)\n",
    "# ax.set_ylabel('PC2', fontsize = 15)\n",
    "# ax.set_title('2 Component PCA', fontsize=14)\n",
    "# targets = [1, 0]\n",
    "# colors = ['r', 'g']\n",
    "# for target, color in zip(targets, colors):\n",
    "#     indices = pc_df['label'] == target\n",
    "#     ax.scatter(pc_df.loc[indices, 0], pc_df.loc[indices, 1], c=color, s=50)\n",
    "# ax.legend(targets)\n",
    "# ax.grid()"
   ]
  },
  {
   "cell_type": "markdown",
   "id": "f19578c1",
   "metadata": {},
   "source": [
    "## 5. Detect Outiers"
   ]
  },
  {
   "cell_type": "code",
   "execution_count": null,
   "id": "80c842ce",
   "metadata": {},
   "outputs": [],
   "source": [
    "feature_matrix = standardizer(pc_df.drop('label', axis=1))"
   ]
  },
  {
   "cell_type": "code",
   "execution_count": null,
   "id": "ceee84f6",
   "metadata": {},
   "outputs": [],
   "source": [
    "features = feature_matrix"
   ]
  },
  {
   "cell_type": "markdown",
   "id": "39ed20a8",
   "metadata": {},
   "source": [
    "### 5.1 Local Outlier Factor (LOF)"
   ]
  },
  {
   "cell_type": "code",
   "execution_count": null,
   "id": "8be64eab",
   "metadata": {},
   "outputs": [],
   "source": [
    "%%timeit -r 3 -n 1\n",
    "lof = LOF(n_neighbors=20, contamination=contamination, n_jobs=threads)\n",
    "pred_df[\"lof\"] = lof.fit_predict(features)\n",
    "pred_df[\"lof_score\"] = lof.decision_scores_\n",
    "print(f\"Threshold: {lof.threshold_:.5f}\")"
   ]
  },
  {
   "cell_type": "markdown",
   "id": "cc50592a",
   "metadata": {},
   "source": [
    "### 5.2 DBSCAN"
   ]
  },
  {
   "cell_type": "code",
   "execution_count": null,
   "id": "7e9b0c83",
   "metadata": {},
   "outputs": [],
   "source": [
    "%%timeit -r 3 -n 1\n",
    "dbscan = DBSCAN(eps=0.5, min_samples=5, n_jobs=threads).fit(features)\n",
    "\n",
    "core_samples_mask = np.zeros_like(dbscan.labels_, dtype=bool)\n",
    "core_samples_mask[dbscan.core_sample_indices_] = True\n",
    "labels = dbscan.labels_\n",
    "\n",
    "labels[labels > -1] = 0\n",
    "labels[labels == -1] = 1\n",
    "pred_df[\"dbscan\"] = labels"
   ]
  },
  {
   "cell_type": "markdown",
   "id": "de1753a1",
   "metadata": {},
   "source": [
    "### 5.3 Isolation Forest (iForest)"
   ]
  },
  {
   "cell_type": "code",
   "execution_count": null,
   "id": "177e13cd",
   "metadata": {},
   "outputs": [],
   "source": [
    "%%timeit -r 3 -n 1\n",
    "iforest = IForest(n_estimators=100, contamination=contamination, max_samples=\"auto\", max_features=1.0, n_jobs=threads)\n",
    "iforest.fit(features)\n",
    "pred_df[\"iforest\"] = iforest.predict(features)\n",
    "pred_df[\"iforest_score\"] = iforest.decision_scores_\n",
    "print(f\"Threshold: {iforest.threshold_:.5f}\")"
   ]
  },
  {
   "cell_type": "markdown",
   "id": "6e3a20cd",
   "metadata": {},
   "source": [
    "### 5.4 One Class SVM (OCSVM)"
   ]
  },
  {
   "cell_type": "code",
   "execution_count": null,
   "id": "691253b7",
   "metadata": {},
   "outputs": [],
   "source": [
    "%%timeit -r 3 -n 1\n",
    "ocsvm = OCSVM(gamma=\"auto\", contamination=contamination, cache_size=2048)\n",
    "ocsvm.fit(features) \n",
    "pred_df[\"ocsvm\"] = ocsvm.predict(features)\n",
    "pred_df[\"ocsvm_score\"] = ocsvm.decision_scores_\n",
    "print(f\"Threshold: {ocsvm.threshold_:.5f}\")"
   ]
  },
  {
   "cell_type": "markdown",
   "id": "c36f178b",
   "metadata": {},
   "source": [
    "### 5.5 SUOD"
   ]
  },
  {
   "cell_type": "code",
   "execution_count": null,
   "id": "42e32132",
   "metadata": {},
   "outputs": [],
   "source": [
    "%%timeit -r 3 -n 1\n",
    "detector_list = [\n",
    "    LOF(n_neighbors=20, contamination=contamination),\n",
    "    IForest(n_estimators=100, contamination=contamination, max_samples=\"auto\", max_features=1.0),\n",
    "    OCSVM(gamma=\"auto\", contamination=contamination, cache_size=2048)\n",
    "]\n",
    "suod = SUOD(base_estimators=detector_list, contamination=contamination, n_jobs=threads, combination='average', verbose=False)\n",
    "suod.fit(features)\n",
    "pred_df[\"suod\"] = suod.labels_\n",
    "pred_df[\"suod_score\"] = suod.decision_scores_\n",
    "print(f\"Threshold: {suod.threshold_:.5f}\")"
   ]
  },
  {
   "cell_type": "code",
   "execution_count": null,
   "id": "5294285f",
   "metadata": {},
   "outputs": [],
   "source": [
    "filename_pred = \"reviews_outlier_predtions.csv\"\n",
    "pred_df.to_csv(filename_pred, sep=\";\", index=False)"
   ]
  },
  {
   "cell_type": "code",
   "execution_count": null,
   "id": "b1387c8e",
   "metadata": {},
   "outputs": [],
   "source": []
  },
  {
   "cell_type": "code",
   "execution_count": null,
   "id": "18c4b162",
   "metadata": {},
   "outputs": [],
   "source": [
    "# All thread\n",
    "# 2.32 s ± 92.9 ms per loop (mean ± std. dev. of 3 runs, 1 loop each)\n",
    "# 3.74 s ± 346 ms per loop (mean ± std. dev. of 3 runs, 1 loop each)\n",
    "# 4.2 s ± 109 ms per loop (mean ± std. dev. of 3 runs, 1 loop each)\n",
    "# 7min 2s ± 24.8 s per loop (mean ± std. dev. of 3 runs, 1 loop each)\n",
    "# 4min 46s ± 16.6 s per loop (mean ± std. dev. of 3 runs, 1 loop each)\n",
    "\n",
    "# Single thread\n",
    "# 3.51 s ± 274 ms per loop (mean ± std. dev. of 3 runs, 1 loop each)\n",
    "# 8.54 s ± 799 ms per loop (mean ± std. dev. of 3 runs, 1 loop each)\n",
    "# 5.23 s ± 485 ms per loop (mean ± std. dev. of 3 runs, 1 loop each)\n",
    "# 7min 23s ± 8.99 s per loop (mean ± std. dev. of 3 runs, 1 loop each)\n",
    "# 5min 32s ± 1min 19s per loop (mean ± std. dev. of 3 runs, 1 loop each)"
   ]
  },
  {
   "cell_type": "code",
   "execution_count": null,
   "id": "77897877",
   "metadata": {},
   "outputs": [],
   "source": [
    "pred_df[[\"ents\", \"lof\", \"dbscan\", \"iforest\", \"ocsvm\", \"suod\"]].head(30) "
   ]
  },
  {
   "cell_type": "code",
   "execution_count": null,
   "id": "cec88c78",
   "metadata": {},
   "outputs": [],
   "source": []
  },
  {
   "cell_type": "code",
   "execution_count": null,
   "id": "f7a48fa8",
   "metadata": {},
   "outputs": [],
   "source": []
  },
  {
   "cell_type": "code",
   "execution_count": null,
   "id": "9328f59b",
   "metadata": {},
   "outputs": [],
   "source": []
  }
 ],
 "metadata": {
  "kernelspec": {
   "display_name": "Python 3 (ipykernel)",
   "language": "python",
   "name": "python3"
  },
  "language_info": {
   "codemirror_mode": {
    "name": "ipython",
    "version": 3
   },
   "file_extension": ".py",
   "mimetype": "text/x-python",
   "name": "python",
   "nbconvert_exporter": "python",
   "pygments_lexer": "ipython3",
   "version": "3.9.12"
  }
 },
 "nbformat": 4,
 "nbformat_minor": 5
}
