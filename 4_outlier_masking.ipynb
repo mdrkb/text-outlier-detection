{
 "cells": [
  {
   "cell_type": "markdown",
   "id": "8ac29e11",
   "metadata": {},
   "source": [
    "# Outlier Masking - Airbnb Reviews"
   ]
  },
  {
   "cell_type": "code",
   "execution_count": null,
   "id": "565ef84a",
   "metadata": {},
   "outputs": [],
   "source": [
    "import ast\n",
    "import random\n",
    "import numpy as np\n",
    "import pandas as pd\n",
    "from faker import Faker\n",
    "\n",
    "pd.set_option(\"display.max_colwidth\", None)"
   ]
  },
  {
   "cell_type": "code",
   "execution_count": null,
   "id": "63b682d1",
   "metadata": {},
   "outputs": [],
   "source": [
    "# Load the dataset containing named entities\n",
    "filename_ne = \"reviews_outlier_predtions.csv\"\n",
    "outlier_df = pd.read_csv(filename_ne, sep=\";\")"
   ]
  },
  {
   "cell_type": "code",
   "execution_count": null,
   "id": "de6d8b80",
   "metadata": {},
   "outputs": [],
   "source": [
    "outlier_df[[\"comments\", \"ents\", \"suod\"]].head()"
   ]
  },
  {
   "cell_type": "markdown",
   "id": "41226119",
   "metadata": {},
   "source": [
    "## Data Masking"
   ]
  },
  {
   "cell_type": "code",
   "execution_count": null,
   "id": "b72ce309",
   "metadata": {},
   "outputs": [],
   "source": [
    "fake = Faker(\"en_US\")\n",
    "\n",
    "ordinal_list = [\"1st\", \"2nd\", \"3rd\", \"4th\", \"5th\", \"6th\", \"7th\", \"8th\", \"9th\", \"10th\", \"first\", \"second\", \"third\"]\n",
    "\n",
    "mask_ents = {\n",
    "    'CARDINAL': lambda: fake.random_int(min=1, max=10),\n",
    "    'DATE': fake.date,\n",
    "    'EMAIL': fake.free_email,\n",
    "    'EVENT': fake.street_name,\n",
    "    'FAC': fake.street_name, \n",
    "    'GPE': random.choice([fake.city, fake.country]),\n",
    "    'LANGUAGE': fake.language_name,\n",
    "    'LAW': fake.street_name,\n",
    "    'LOC': fake.street_address,\n",
    "    'MONEY': fake.pricetag,\n",
    "    'NORP': fake.country,\n",
    "    'ORDINAL': lambda: random.choice(ordinal_list),\n",
    "    'ORG': fake.company,\n",
    "    'PERCENT': lambda: f\"{fake.random_int(min=1, max=100)}%\",\n",
    "    'PERSON': fake.first_name, \n",
    "    'PHONE': fake.phone_number,\n",
    "    'PRODUCT': fake.street_name, \n",
    "    'QUANTITY': lambda: fake.random_int(min=1, max=100), \n",
    "    'TIME': fake.time,\n",
    "    'WORK_OF_ART': fake.street_name\n",
    "}"
   ]
  },
  {
   "cell_type": "code",
   "execution_count": null,
   "id": "ecc85463",
   "metadata": {},
   "outputs": [],
   "source": [
    "def mask_data(review):\n",
    "    comment = review[\"comments\"]\n",
    "    if not bool(review[\"suod\"]):\n",
    "        return comment\n",
    "    \n",
    "    ent_dict = ast.literal_eval(review[\"ents\"])\n",
    "    ent_hash = {}\n",
    "    for key, ents in ent_dict.items():\n",
    "        for ent in ents:\n",
    "            if ent not in ent_hash:\n",
    "                ent_hash[ent] = str(mask_ents[key]())\n",
    "            comment = comment.replace(ent, ent_hash[ent])\n",
    "    return comment"
   ]
  },
  {
   "cell_type": "code",
   "execution_count": null,
   "id": "4d3010c3",
   "metadata": {},
   "outputs": [],
   "source": [
    "outlier_df[\"comments_anonymized\"] = outlier_df[[\"comments\", \"ents\", \"suod\"]].apply(mask_data, axis=1)"
   ]
  },
  {
   "cell_type": "code",
   "execution_count": null,
   "id": "ba777631",
   "metadata": {},
   "outputs": [],
   "source": [
    "outlier_df[[\"comments\", \"ents\", \"suod\", \"comments_anonymized\"]].head()"
   ]
  },
  {
   "cell_type": "code",
   "execution_count": null,
   "id": "922d5c64",
   "metadata": {},
   "outputs": [],
   "source": [
    "filename = \"reviews_anonymized.csv\"\n",
    "outlier_df.to_csv(filename, sep=\";\", index=False)"
   ]
  },
  {
   "cell_type": "code",
   "execution_count": null,
   "id": "4dc90310",
   "metadata": {},
   "outputs": [],
   "source": []
  },
  {
   "cell_type": "code",
   "execution_count": null,
   "id": "28bc3b35",
   "metadata": {},
   "outputs": [],
   "source": []
  }
 ],
 "metadata": {
  "kernelspec": {
   "display_name": "Python 3 (ipykernel)",
   "language": "python",
   "name": "python3"
  },
  "language_info": {
   "codemirror_mode": {
    "name": "ipython",
    "version": 3
   },
   "file_extension": ".py",
   "mimetype": "text/x-python",
   "name": "python",
   "nbconvert_exporter": "python",
   "pygments_lexer": "ipython3",
   "version": "3.9.12"
  }
 },
 "nbformat": 4,
 "nbformat_minor": 5
}
