{
 "cells": [
  {
   "cell_type": "markdown",
   "id": "353f095d",
   "metadata": {},
   "source": [
    "# Semantic Similarity Evaluation - Airbnb Reviews"
   ]
  },
  {
   "cell_type": "code",
   "execution_count": null,
   "id": "5063283b",
   "metadata": {},
   "outputs": [],
   "source": [
    "import re\n",
    "import numpy as np\n",
    "import pandas as pd\n",
    "import matplotlib.pyplot as plt\n",
    "import spacy\n",
    "\n",
    "%matplotlib inline\n",
    "plt.rcParams.update({\"font.size\": 14})"
   ]
  },
  {
   "cell_type": "code",
   "execution_count": null,
   "id": "e76cb08d",
   "metadata": {},
   "outputs": [],
   "source": [
    "filename = \"reviews_anonymized.csv\"\n",
    "df = pd.read_csv(filename, sep=\";\")\n",
    "df.shape"
   ]
  },
  {
   "cell_type": "code",
   "execution_count": null,
   "id": "811faaca",
   "metadata": {},
   "outputs": [],
   "source": [
    "nlp = spacy.load(\"en_core_web_lg\")"
   ]
  },
  {
   "cell_type": "code",
   "execution_count": null,
   "id": "c1df19e0",
   "metadata": {},
   "outputs": [],
   "source": [
    "def get_similarity(review):\n",
    "    if not bool(review[\"suod\"]):\n",
    "        return 1.0\n",
    "    \n",
    "    comment_ents_list = []\n",
    "    comment_annonymized_ents_list = []\n",
    "    \n",
    "    # Find emails\n",
    "    emails = re.findall(r\"[\\w.+-]+@[\\w-]+\\.[\\w.-]+\", str(review[\"comments\"]))\n",
    "    comment_ents_list += [email for email in emails]\n",
    "    emails = re.findall(r\"[\\w.+-]+@[\\w-]+\\.[\\w.-]+\", str(review[\"comments_anonymized\"]))\n",
    "    comment_annonymized_ents_list += [email for email in emails]\n",
    "    \n",
    "    # Find phone numbers\n",
    "    phones = re.findall(r\"((?:\\+\\d{2}[-\\.\\s]??|\\d{4}[-\\.\\s]??)?(?:\\d{3}[-\\.\\s]??\\d{3}[-\\.\\s]??\\d{4}|\\(\\d{3}\\)\\s*\\d{3}[-\\.\\s]??\\d{4}|\\d{3}[-\\.\\s]??\\d{4}))\", str(review[\"comments\"]))\n",
    "    comment_ents_list += [phone for phone in phones]\n",
    "    phones = re.findall(r\"((?:\\+\\d{2}[-\\.\\s]??|\\d{4}[-\\.\\s]??)?(?:\\d{3}[-\\.\\s]??\\d{3}[-\\.\\s]??\\d{4}|\\(\\d{3}\\)\\s*\\d{3}[-\\.\\s]??\\d{4}|\\d{3}[-\\.\\s]??\\d{4}))\", str(review[\"comments_anonymized\"]))\n",
    "    comment_annonymized_ents_list += [phone for phone in phones]\n",
    "    \n",
    "    # Find named entites\n",
    "    doc = nlp(str(review[\"comments\"]))\n",
    "    comment_ents_list += [ent.text for ent in doc.ents]\n",
    "    doc = nlp(str(review[\"comments_anonymized\"]))\n",
    "    comment_annonymized_ents_list += [ent.text for ent in doc.ents]\n",
    "\n",
    "    doc1 = nlp(\" \".join(comment_ents_list))\n",
    "    doc2 = nlp(\" \".join(comment_annonymized_ents_list))\n",
    "    return doc1.similarity(doc2)"
   ]
  },
  {
   "cell_type": "code",
   "execution_count": null,
   "id": "dca32e35",
   "metadata": {},
   "outputs": [],
   "source": [
    "df[\"similarity\"] = df.apply(lambda review: get_similarity(review), axis=1, result_type=\"expand\")"
   ]
  },
  {
   "cell_type": "code",
   "execution_count": null,
   "id": "7979256f",
   "metadata": {},
   "outputs": [],
   "source": [
    "filename = \"reviews_anonymized.csv\"\n",
    "df.to_csv(filename, sep=\";\", index=False)"
   ]
  },
  {
   "cell_type": "code",
   "execution_count": null,
   "id": "08da4811",
   "metadata": {},
   "outputs": [],
   "source": []
  },
  {
   "cell_type": "code",
   "execution_count": null,
   "id": "b689e5aa",
   "metadata": {},
   "outputs": [],
   "source": [
    "df_outlier = df[df[\"suod\"]==1][\"similarity\"].copy()"
   ]
  },
  {
   "cell_type": "code",
   "execution_count": null,
   "id": "eb5d7955",
   "metadata": {
    "scrolled": false
   },
   "outputs": [],
   "source": [
    "Q1, Q2, Q3 = df_outlier.quantile(0.25), df_outlier.quantile(0.5), df_outlier.quantile(0.75)\n",
    "\n",
    "plt.figure(figsize=(10,5))\n",
    "df_outlier.hist(bins=100)\n",
    "plt.axvline(x=Q1, color='c', linewidth=3, label=f'Q1: {Q1:.3f}')\n",
    "plt.axvline(x=Q2, color='m', linewidth=3, label=f'Q2: {Q2:.3f}')\n",
    "plt.axvline(x=Q3, color='y', linewidth=3, label=f'Q3: {Q3:.3f}')\n",
    "plt.xlabel('\\nSimilarity Value')\n",
    "plt.ylabel('Count')\n",
    "plt.title('Semantic Similarity Distribution\\n')\n",
    "plt.legend()\n",
    "plt.savefig('figures/text_similarity.png', bbox_inches=\"tight\")\n",
    "plt.show()"
   ]
  },
  {
   "cell_type": "code",
   "execution_count": null,
   "id": "9687046f",
   "metadata": {},
   "outputs": [],
   "source": [
    "less_than_zero = df_outlier[df_outlier<=0].count() / df_outlier.count()\n",
    "print(f\"Percentage of comments less than zero similarity score: {less_than_zero:.3f}\")"
   ]
  },
  {
   "cell_type": "code",
   "execution_count": null,
   "id": "4c75b8cd",
   "metadata": {},
   "outputs": [],
   "source": []
  },
  {
   "cell_type": "code",
   "execution_count": null,
   "id": "52c08cba",
   "metadata": {},
   "outputs": [],
   "source": [
    "nlp(\"David Berlin\").similarity(nlp(\"Victor Munich\"))"
   ]
  },
  {
   "cell_type": "code",
   "execution_count": null,
   "id": "a5392095",
   "metadata": {},
   "outputs": [],
   "source": [
    "nlp(\"David Berlin\").similarity(nlp(\"XXXXX XXXXX\"))"
   ]
  },
  {
   "cell_type": "code",
   "execution_count": null,
   "id": "33339f80",
   "metadata": {},
   "outputs": [],
   "source": [
    "nlp(\"XXXXX XXXXX\").similarity(nlp(\"David Berlin\"))"
   ]
  },
  {
   "cell_type": "code",
   "execution_count": null,
   "id": "579a8952",
   "metadata": {},
   "outputs": [],
   "source": []
  }
 ],
 "metadata": {
  "kernelspec": {
   "display_name": "Python 3 (ipykernel)",
   "language": "python",
   "name": "python3"
  },
  "language_info": {
   "codemirror_mode": {
    "name": "ipython",
    "version": 3
   },
   "file_extension": ".py",
   "mimetype": "text/x-python",
   "name": "python",
   "nbconvert_exporter": "python",
   "pygments_lexer": "ipython3",
   "version": "3.9.12"
  }
 },
 "nbformat": 4,
 "nbformat_minor": 5
}
