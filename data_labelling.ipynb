{
 "cells": [
  {
   "cell_type": "markdown",
   "id": "bd7f9f26",
   "metadata": {},
   "source": [
    "# Data Labeling Process - Airbnb Reviews"
   ]
  },
  {
   "cell_type": "code",
   "execution_count": null,
   "id": "4ffbd1e3",
   "metadata": {},
   "outputs": [],
   "source": [
    "import ast\n",
    "import numpy as np\n",
    "import pandas as pd\n",
    "import matplotlib.pyplot as plt\n",
    "\n",
    "%matplotlib inline\n",
    "plt.rcParams.update({\"font.size\": 13, \"figure.figsize\": [8,2]})\n",
    "pd.set_option(\"display.max_colwidth\", None)"
   ]
  },
  {
   "cell_type": "code",
   "execution_count": null,
   "id": "923c887e",
   "metadata": {},
   "outputs": [],
   "source": [
    "samples = 50782 # 20% of data"
   ]
  },
  {
   "cell_type": "code",
   "execution_count": null,
   "id": "45cd5cdc",
   "metadata": {},
   "outputs": [],
   "source": [
    "# Load the dataset containing named entities\n",
    "filename_ne = \"reviews_named_entities.csv\"\n",
    "df = pd.read_csv(filename_ne, sep=\";\", nrows=samples)"
   ]
  },
  {
   "cell_type": "code",
   "execution_count": null,
   "id": "00816a17",
   "metadata": {},
   "outputs": [],
   "source": [
    "columns = ['CARDINAL', 'DATE', 'EMAIL', 'EVENT', 'FAC', 'GPE', 'LANGUAGE', 'LAW', 'LOC', 'MONEY', 'NORP', 'ORDINAL',\n",
    "               'ORG', 'PERCENT', 'PERSON', 'PHONE', 'PRODUCT', 'QUANTITY', 'TIME', 'WORK_OF_ART']"
   ]
  },
  {
   "cell_type": "code",
   "execution_count": null,
   "id": "f2d94421",
   "metadata": {},
   "outputs": [],
   "source": [
    "def label_data(review):\n",
    "    ent_dict = ast.literal_eval(review[\"ents\"])\n",
    "    outlier = False\n",
    "    if \"EMAIL\" in ent_dict or \"PHONE\" in ent_dict:\n",
    "        outlier = True\n",
    "    elif (\"PERSON\" in ent_dict or \"ORG\" in ent_dict) and len(ent_dict.keys())>1:\n",
    "        outlier = True\n",
    "    return 1 if outlier else 0"
   ]
  },
  {
   "cell_type": "code",
   "execution_count": null,
   "id": "65581ff4",
   "metadata": {},
   "outputs": [],
   "source": [
    "df[\"label\"] = df.apply(label_data, axis=1)"
   ]
  },
  {
   "cell_type": "code",
   "execution_count": null,
   "id": "1ed738f0",
   "metadata": {},
   "outputs": [],
   "source": [
    "df[df[\"label\"]==1].shape"
   ]
  },
  {
   "cell_type": "code",
   "execution_count": null,
   "id": "8d638871",
   "metadata": {},
   "outputs": [],
   "source": [
    "df[[\"comments\", \"ents\", \"label\"]].head(10)"
   ]
  },
  {
   "cell_type": "code",
   "execution_count": null,
   "id": "31bd4921",
   "metadata": {},
   "outputs": [],
   "source": [
    "filename = \"reviews_sample_labelled.csv\"\n",
    "df.to_csv(filename, sep=\";\", index=False)"
   ]
  },
  {
   "cell_type": "code",
   "execution_count": null,
   "id": "5da7d415",
   "metadata": {},
   "outputs": [],
   "source": [
    "df[\"label\"].value_counts()"
   ]
  },
  {
   "cell_type": "code",
   "execution_count": null,
   "id": "3503a1d5",
   "metadata": {},
   "outputs": [],
   "source": []
  },
  {
   "cell_type": "code",
   "execution_count": null,
   "id": "5db3f180",
   "metadata": {},
   "outputs": [],
   "source": [
    "import spacy\n",
    "\n",
    "for column in columns:\n",
    "    print(f\"{column} => {spacy.explain(column)}\")"
   ]
  },
  {
   "cell_type": "code",
   "execution_count": null,
   "id": "61707cd7",
   "metadata": {},
   "outputs": [],
   "source": []
  }
 ],
 "metadata": {
  "kernelspec": {
   "display_name": "Python 3 (ipykernel)",
   "language": "python",
   "name": "python3"
  },
  "language_info": {
   "codemirror_mode": {
    "name": "ipython",
    "version": 3
   },
   "file_extension": ".py",
   "mimetype": "text/x-python",
   "name": "python",
   "nbconvert_exporter": "python",
   "pygments_lexer": "ipython3",
   "version": "3.9.12"
  }
 },
 "nbformat": 4,
 "nbformat_minor": 5
}
